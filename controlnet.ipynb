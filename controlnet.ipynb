{
  "cells": [
    {
      "cell_type": "markdown",
      "metadata": {
        "id": "5Rqb5Z08_fz_"
      },
      "source": [
        "# Mount your Google Drive"
      ]
    },
    {
      "cell_type": "code",
      "execution_count": null,
      "metadata": {
        "id": "18C33WnnBI14"
      },
      "outputs": [],
      "source": [
        "!pip install --upgrade fastapi==0.90.1\n",
        "!pip install torch==1.13.1+cu117 torchvision==0.14.1+cu117 torchtext==0.14.1 torchaudio==0.13.1 torchdata==0.5.1 --extra-index-url https://download.pytorch.org/whl/cu117"
      ]
    },
    {
      "cell_type": "code",
      "execution_count": null,
      "metadata": {
        "id": "sBbcB4vwj_jm"
      },
      "outputs": [],
      "source": [
        "!git clone https://github.com/AUTOMATIC1111/stable-diffusion-webui\n",
        "!git clone https://github.com/Mikubill/sd-webui-controlnet /content/stable-diffusion-webui/extensions/sd-webui-controlnet\n",
        "!git clone https://github.com/yfszzx/stable-diffusion-webui-images-browser /content/stable-diffusion-webui/extensions/stable-diffusion-webui-images-browser\n",
        "!git clone https://github.com/DominikDoom/a1111-sd-webui-tagcomplete /content/stable-diffusion-webui/extensions/a1111-sd-webui-tagcomplete\n",
        "\n",
        "# REALISTIC VISION\n",
        "!curl -Lo realisticvisionv1.3.ckpt https://huggingface.co/nolanaatama/rv13/resolve/main/rv13.ckpt\n",
        "!mv \"/content/realisticvisionv1.3.ckpt\" \"/content/stable-diffusion-webui/models/Stable-diffusion\"\n",
        "\n",
        "# ControlNet\n",
        "# canny\n",
        "!curl -Lo control_canny-fp16.safetensors https://huggingface.co/webui/ControlNet-modules-safetensors/resolve/main/control_canny-fp16.safetensors\n",
        "!mv \"/content/control_canny-fp16.safetensors\" \"/content/stable-diffusion-webui/extensions/sd-webui-controlnet/models\"\n",
        "# depth\n",
        "!curl -Lo control_depth-fp16.safetensors https://huggingface.co/webui/ControlNet-modules-safetensors/resolve/main/control_depth-fp16.safetensors\n",
        "!mv \"/content/control_depth-fp16.safetensors\" \"/content/stable-diffusion-webui/extensions/sd-webui-controlnet/models\""
      ]
    },
    {
      "cell_type": "code",
      "execution_count": null,
      "metadata": {
        "id": "i_aYPSlld-CG"
      },
      "outputs": [],
      "source": [
        "# Fix a synchronization bug\n",
        "# https://github.com/AUTOMATIC1111/stable-diffusion-webui/issues/9046#issuecomment-1489459704\n",
        "!git clone https://github.com/marcos-acosta/stable-diffusion-tours\n",
        "!mv /content/stable-diffusion-tours/fixes/api.py /content/stable-diffusion-webui/modules/api/api.py\n",
        "!rm -r /content/stable-diffusion-tours"
      ]
    },
    {
      "cell_type": "code",
      "execution_count": null,
      "metadata": {
        "id": "ujbZJ6Y3nNUy"
      },
      "outputs": [],
      "source": [
        "%cd /content/stable-diffusion-webui"
      ]
    },
    {
      "cell_type": "code",
      "execution_count": null,
      "metadata": {
        "id": "bc91fFleCHj9"
      },
      "outputs": [],
      "source": [
        "!COMMANDLINE_ARGS=\"--api --share --disable-safe-unpickle --no-half-vae --xformers --reinstall-xformers --enable-insecure-extension-access\" REQS_FILE=\"requirements.txt\" python launch.py"
      ]
    }
  ],
  "metadata": {
    "accelerator": "GPU",
    "colab": {
      "provenance": []
    },
    "gpuClass": "standard",
    "kernelspec": {
      "display_name": "Python 3",
      "name": "python3"
    },
    "language_info": {
      "name": "python"
    }
  },
  "nbformat": 4,
  "nbformat_minor": 0
}
